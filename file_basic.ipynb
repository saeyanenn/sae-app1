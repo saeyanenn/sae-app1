{
 "cells": [
  {
   "cell_type": "code",
   "execution_count": 1,
   "id": "74e91b35-5658-46d0-8133-b87e8c4feb02",
   "metadata": {
    "tags": []
   },
   "outputs": [
    {
     "name": "stdout",
     "output_type": "stream",
     "text": [
      "競売途中に赤福を配る場面があった。赤福とは伊勢の名物であんこ餅だ。あんこ餅と聞くとあんこを餅で囲んだような形を想像するだろうが、赤福はそうではない。赤福は餅の上部をあんこでコーティングしたような形である。その形は平行四辺形の変を少し曲線にしたような形で、長編に沿って中心にスッと一本の筋が見える。その形が赤福の上品さを表現しているような気がする。\n",
      "\n",
      "北はこの赤福を5人分取り分けた。取り分けたのだが、先ほど述べたような美しさは感じられず、崩れてしまっていた。これは決して私の力量不足ではないと考える。その言い訳をこれから述べよう。赤福は仕切りのない箱に８つ入っているのだが、それがあまりにもソーシャルディスタンスを無視したように密に詰められている。あと数ミリで餅同士が触れ合ってしまうような密状態でしかも、箱の底と餅がよくくっついてしまっては誰だろうがうまく取り分けるよとはできないだろう。隠して僕は美しさを買いた赤福を皆に取り分けた。\n"
     ]
    }
   ],
   "source": [
    "with open('sample.txt','r') as f:\n",
    "    text = f.read()\n",
    "    print(text)"
   ]
  },
  {
   "cell_type": "code",
   "execution_count": 3,
   "id": "e86277ce-a26b-4285-be33-cca4d538070b",
   "metadata": {
    "tags": []
   },
   "outputs": [
    {
     "name": "stdout",
     "output_type": "stream",
     "text": [
      "競売途中に赤福を配る場面があった。赤福とは伊勢の名物であんこ餅だ。あんこ餅と聞くとあんこを餅で囲んだような形を想像するだろうが、赤福はそうではない。赤福は餅の上部をあんこでコーティングしたような形である。その形は平行四辺形の変を少し曲線にしたような形で、長編に沿って中心にスッと一本の筋が見える。その形が赤福の上品さを表現しているような気がする。\n",
      "\n",
      "北はこの赤福を5人分取り分けた。取り分けたのだが、先ほど述べたような美しさは感じられず、崩れてしまっていた。これは決して私の力量不足ではないと考える。その言い訳をこれから述べよう。赤福は仕切りのない箱に８つ入っているのだが、それがあまりにもソーシャルディスタンスを無視したように密に詰められている。あと数ミリで餅同士が触れ合ってしまうような密状態でしかも、箱の底と餅がよくくっついてしまっては誰だろうがうまく取り分けるよとはできないだろう。隠して僕は美しさを買いた赤福を皆に取り分けた。\n"
     ]
    }
   ],
   "source": [
    "file = open('sample.txt')\n",
    "txt = file.read()\n",
    "file.close()\n",
    "print(txt)"
   ]
  },
  {
   "cell_type": "code",
   "execution_count": 5,
   "id": "ae9af4bd-638c-4742-884e-c1f8515e02c0",
   "metadata": {
    "tags": []
   },
   "outputs": [],
   "source": [
    "import json"
   ]
  },
  {
   "cell_type": "code",
   "execution_count": 6,
   "id": "dc518f1e-6d5c-4246-bd3d-18758d1f4f31",
   "metadata": {
    "tags": []
   },
   "outputs": [],
   "source": [
    "with open(\"sample.json\",\"r\") as f:\n",
    "    data = json.load(f)"
   ]
  },
  {
   "cell_type": "code",
   "execution_count": 17,
   "id": "2ba7b91c-bec9-4547-bd60-8fa3ab9f5aed",
   "metadata": {
    "tags": []
   },
   "outputs": [
    {
     "ename": "ValueError",
     "evalue": "<built-in function id> is not in list",
     "output_type": "error",
     "traceback": [
      "\u001b[0;31m---------------------------------------------------------------------------\u001b[0m",
      "\u001b[0;31mValueError\u001b[0m                                Traceback (most recent call last)",
      "Input \u001b[0;32mIn [17]\u001b[0m, in \u001b[0;36m<cell line: 1>\u001b[0;34m()\u001b[0m\n\u001b[0;32m----> 1\u001b[0m \u001b[43mdata\u001b[49m\u001b[43m[\u001b[49m\u001b[38;5;124;43m'\u001b[39;49m\u001b[38;5;124;43mtarent\u001b[39;49m\u001b[38;5;124;43m'\u001b[39;49m\u001b[43m]\u001b[49m\u001b[38;5;241;43m.\u001b[39;49m\u001b[43mindex\u001b[49m\u001b[43m(\u001b[49m\u001b[38;5;28;43mid\u001b[39;49m\u001b[43m)\u001b[49m\n",
      "\u001b[0;31mValueError\u001b[0m: <built-in function id> is not in list"
     ]
    }
   ],
   "source": [
    "data['tarent'].index(id)"
   ]
  },
  {
   "cell_type": "code",
   "execution_count": 21,
   "id": "ecba649f-f20b-4cc7-9ac0-47178dbaf37f",
   "metadata": {
    "tags": []
   },
   "outputs": [],
   "source": [
    "import os\n"
   ]
  },
  {
   "cell_type": "code",
   "execution_count": 19,
   "id": "d974b786-fd38-4cfc-b56d-73e575c1bd8c",
   "metadata": {
    "tags": []
   },
   "outputs": [],
   "source": [
    "files = os.listdir()"
   ]
  },
  {
   "cell_type": "code",
   "execution_count": 20,
   "id": "3669edc5-5ef2-4bfa-b47b-f0cce34b3250",
   "metadata": {
    "tags": []
   },
   "outputs": [
    {
     "name": "stdout",
     "output_type": "stream",
     "text": [
      "['if_basic.ipynb', 'sample.json', 'file_basic.ipynb', '.ipynb_checkpoints', 'sample.txt']\n"
     ]
    }
   ],
   "source": [
    "print(files)"
   ]
  },
  {
   "cell_type": "code",
   "execution_count": 27,
   "id": "a606da8c-65c8-454c-afc0-05f1cac70f83",
   "metadata": {
    "tags": []
   },
   "outputs": [
    {
     "name": "stdout",
     "output_type": "stream",
     "text": [
      "./if_basic.ipynb\n",
      "./sample.json\n",
      "./file_basic.ipynb\n",
      "./sample.txt\n",
      "./.ipynb_checkpoints/if_basic-checkpoint.ipynb\n",
      "./.ipynb_checkpoints/file_basic-checkpoint.ipynb\n"
     ]
    }
   ],
   "source": [
    "for curDir,dirs,files in os.walk('.'):\n",
    "    for file in files:\n",
    "        print(f\"{curDir}/{file}\")"
   ]
  },
  {
   "cell_type": "code",
   "execution_count": null,
   "id": "9938ebf1-bca4-44cb-b3c8-c372f5ebb9e9",
   "metadata": {},
   "outputs": [],
   "source": []
  },
  {
   "cell_type": "code",
   "execution_count": 28,
   "id": "e9fbc1d4-3089-4bd3-9332-0e049af66f83",
   "metadata": {
    "tags": []
   },
   "outputs": [
    {
     "data": {
      "text/plain": [
       "['if_basic.ipynb',\n",
       " 'sample.json',\n",
       " 'file_basic.ipynb',\n",
       " '.ipynb_checkpoints',\n",
       " 'sample.txt']"
      ]
     },
     "execution_count": 28,
     "metadata": {},
     "output_type": "execute_result"
    }
   ],
   "source": [
    "os.listdir('.')"
   ]
  },
  {
   "cell_type": "code",
   "execution_count": 30,
   "id": "9972c79b-c1dd-494b-a132-45d466abe6ef",
   "metadata": {
    "tags": []
   },
   "outputs": [
    {
     "data": {
      "text/plain": [
       "'/Users/itousae/dev/python/r-puiz/02_100本ノック/if_basic.ipynb'"
      ]
     },
     "execution_count": 30,
     "metadata": {},
     "output_type": "execute_result"
    }
   ],
   "source": [
    "os.path.abspath('./if_basic.ipynb')"
   ]
  },
  {
   "cell_type": "code",
   "execution_count": 31,
   "id": "e87ee287-14e1-4a59-afd4-3d5fbc19c870",
   "metadata": {
    "tags": []
   },
   "outputs": [
    {
     "data": {
      "text/plain": [
       "'if_basic.ipynb'"
      ]
     },
     "execution_count": 31,
     "metadata": {},
     "output_type": "execute_result"
    }
   ],
   "source": [
    "os.path.basename('./if_basic.ipynb')"
   ]
  },
  {
   "cell_type": "code",
   "execution_count": 35,
   "id": "4a4af241-e1cf-4ee2-91a9-55f84ce2ddbc",
   "metadata": {
    "tags": []
   },
   "outputs": [
    {
     "data": {
      "text/plain": [
       "True"
      ]
     },
     "execution_count": 35,
     "metadata": {},
     "output_type": "execute_result"
    }
   ],
   "source": [
    "os.path.exists('./if_basic.ipynb')"
   ]
  },
  {
   "cell_type": "code",
   "execution_count": 38,
   "id": "8cbd336f-acbe-4619-ae35-64dc61a38b3a",
   "metadata": {
    "tags": []
   },
   "outputs": [
    {
     "data": {
      "text/plain": [
       "True"
      ]
     },
     "execution_count": 38,
     "metadata": {},
     "output_type": "execute_result"
    }
   ],
   "source": [
    "os.path.isfile('./if_basic.ipynb')"
   ]
  },
  {
   "cell_type": "code",
   "execution_count": 39,
   "id": "2d99ec96-703b-4775-ac15-417b7be93e31",
   "metadata": {
    "tags": []
   },
   "outputs": [
    {
     "name": "stdout",
     "output_type": "stream",
     "text": [
      "./if_basic.ipynb\n",
      "./sample.json\n",
      "./file_basic.ipynb\n",
      "./sample.txt\n",
      "./.ipynb_checkpoints/if_basic-checkpoint.ipynb\n",
      "./.ipynb_checkpoints/file_basic-checkpoint.ipynb\n"
     ]
    }
   ],
   "source": [
    "for curDir,dirs,files in os.walk('.'):\n",
    "    for file in files:\n",
    "        print(os.path.join(curDir,file))"
   ]
  },
  {
   "cell_type": "code",
   "execution_count": 40,
   "id": "9f7c3361-4d1d-465a-9e51-c67856e9a98e",
   "metadata": {
    "tags": []
   },
   "outputs": [],
   "source": [
    "os.mkdir('nekochyan')"
   ]
  },
  {
   "cell_type": "code",
   "execution_count": 41,
   "id": "fd5a20ba-d26d-4f9b-a86c-bc9f7b665410",
   "metadata": {
    "tags": []
   },
   "outputs": [],
   "source": [
    "os.remove('sample.txt')"
   ]
  },
  {
   "cell_type": "code",
   "execution_count": 42,
   "id": "4fa736a8-1861-4cb3-a633-bff1ce29764e",
   "metadata": {
    "tags": []
   },
   "outputs": [],
   "source": [
    "os.rename('nekochyan','wanchyan')"
   ]
  },
  {
   "cell_type": "code",
   "execution_count": 43,
   "id": "ae835308-ec02-4c53-93ab-3fd5c4bff73e",
   "metadata": {
    "tags": []
   },
   "outputs": [
    {
     "data": {
      "text/plain": [
       "'/usr/local/bin:/opt/homebrew/bin:/opt/homebrew/sbin:/usr/local/bin:/usr/local/sbin:/Library/Frameworks/Python.framework/Versions/3.10/bin:/usr/local/bin:/usr/bin:/bin:/usr/sbin:/sbin:/opt/homebrew/bin'"
      ]
     },
     "execution_count": 43,
     "metadata": {},
     "output_type": "execute_result"
    }
   ],
   "source": [
    "os.environ['PATH']"
   ]
  },
  {
   "cell_type": "code",
   "execution_count": 44,
   "id": "2c2d171a-8f41-4f86-a673-6af1868a9474",
   "metadata": {
    "tags": []
   },
   "outputs": [
    {
     "name": "stdout",
     "output_type": "stream",
     "text": [
      ".\n",
      "..\n",
      ".ipynb_checkpoints\n",
      "file_basic.ipynb\n",
      "if_basic.ipynb\n",
      "sample.json\n",
      "wanchyan\n"
     ]
    },
    {
     "data": {
      "text/plain": [
       "0"
      ]
     },
     "execution_count": 44,
     "metadata": {},
     "output_type": "execute_result"
    }
   ],
   "source": [
    "os.system('ls -a')"
   ]
  },
  {
   "cell_type": "code",
   "execution_count": 45,
   "id": "fb746c9e-2166-4588-b25d-02793195123f",
   "metadata": {
    "tags": []
   },
   "outputs": [
    {
     "name": "stdout",
     "output_type": "stream",
     "text": [
      ".\n",
      "..\n",
      ".ipynb_checkpoints\n",
      "file_basic.ipynb\n",
      "if_basic.ipynb\n",
      "sample.json\n",
      "wanchyan\n",
      "\n"
     ]
    }
   ],
   "source": [
    "print(os.popen('ls -a').read())"
   ]
  }
 ],
 "metadata": {
  "kernelspec": {
   "display_name": "Python 3 (ipykernel)",
   "language": "python",
   "name": "python3"
  },
  "language_info": {
   "codemirror_mode": {
    "name": "ipython",
    "version": 3
   },
   "file_extension": ".py",
   "mimetype": "text/x-python",
   "name": "python",
   "nbconvert_exporter": "python",
   "pygments_lexer": "ipython3",
   "version": "3.10.5"
  }
 },
 "nbformat": 4,
 "nbformat_minor": 5
}
