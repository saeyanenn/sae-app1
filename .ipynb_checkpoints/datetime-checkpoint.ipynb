{
 "cells": [
  {
   "cell_type": "code",
   "execution_count": 2,
   "id": "a168279c-41cd-4b3a-a30c-9bae1aeec8b0",
   "metadata": {
    "tags": []
   },
   "outputs": [
    {
     "name": "stdout",
     "output_type": "stream",
     "text": [
      "現在の日時: 2023-04-10 23:21:06.292487\n"
     ]
    }
   ],
   "source": [
    "import datetime\n",
    "\n",
    "# 現在の日時を取得\n",
    "now = datetime.datetime.now()\n",
    "\n",
    "# 現在の日時を表示\n",
    "print(\"現在の日時:\", now)"
   ]
  },
  {
   "cell_type": "code",
   "execution_count": 4,
   "id": "a92bb290-2247-4f72-b9a1-8a0afb42fc02",
   "metadata": {
    "tags": []
   },
   "outputs": [
    {
     "data": {
      "text/plain": [
       "datetime.date(2023, 4, 10)"
      ]
     },
     "execution_count": 4,
     "metadata": {},
     "output_type": "execute_result"
    }
   ],
   "source": [
    "datetime.date.today()"
   ]
  },
  {
   "cell_type": "code",
   "execution_count": 5,
   "id": "28bb8aa5-cb17-42fb-b1fb-b138fa6dd2d0",
   "metadata": {
    "tags": []
   },
   "outputs": [
    {
     "data": {
      "text/plain": [
       "datetime.date(2021, 1, 1)"
      ]
     },
     "execution_count": 5,
     "metadata": {},
     "output_type": "execute_result"
    }
   ],
   "source": [
    "datetime.date(2021,1,1)"
   ]
  },
  {
   "cell_type": "code",
   "execution_count": 9,
   "id": "f827eeb8-1345-4a0d-a2b0-f032d168fd28",
   "metadata": {
    "tags": []
   },
   "outputs": [
    {
     "data": {
      "text/plain": [
       "'Monday'"
      ]
     },
     "execution_count": 9,
     "metadata": {},
     "output_type": "execute_result"
    }
   ],
   "source": [
    "now = datetime.datetime.now().strftime('%A')\n",
    "\n",
    "\n",
    "now"
   ]
  },
  {
   "cell_type": "code",
   "execution_count": 4,
   "id": "37d2df85-642c-4ade-953a-667ad9c61b3d",
   "metadata": {
    "tags": []
   },
   "outputs": [
    {
     "data": {
      "text/plain": [
       "datetime.date(2023, 4, 8)"
      ]
     },
     "execution_count": 4,
     "metadata": {},
     "output_type": "execute_result"
    }
   ],
   "source": [
    "from datetime import timedelta\n",
    "today = datetime.date.today()\n",
    "delta = datetime.timedelta(days=2)\n",
    "today-delta"
   ]
  },
  {
   "cell_type": "code",
   "execution_count": 5,
   "id": "b8f54d86-5335-441c-9ecf-c19a2c63bc93",
   "metadata": {
    "tags": []
   },
   "outputs": [
    {
     "ename": "TypeError",
     "evalue": "'module' object is not callable",
     "output_type": "error",
     "traceback": [
      "\u001b[0;31m---------------------------------------------------------------------------\u001b[0m",
      "\u001b[0;31mTypeError\u001b[0m                                 Traceback (most recent call last)",
      "Input \u001b[0;32mIn [5]\u001b[0m, in \u001b[0;36m<cell line: 1>\u001b[0;34m()\u001b[0m\n\u001b[0;32m----> 1\u001b[0m date1 \u001b[38;5;241m=\u001b[39m\u001b[43mdatetime\u001b[49m\u001b[43m(\u001b[49m\u001b[38;5;241;43m2020\u001b[39;49m\u001b[43m,\u001b[49m\u001b[38;5;241;43m1\u001b[39;49m\u001b[43m,\u001b[49m\u001b[38;5;241;43m1\u001b[39;49m\u001b[43m)\u001b[49m\n\u001b[1;32m      2\u001b[0m date2 \u001b[38;5;241m=\u001b[39m datetime(\u001b[38;5;241m2021\u001b[39m,\u001b[38;5;241m1\u001b[39m,\u001b[38;5;241m1\u001b[39m)\n\u001b[1;32m      3\u001b[0m datea\u001b[38;5;241m=\u001b[39mdate2\u001b[38;5;241m-\u001b[39mdate1\n",
      "\u001b[0;31mTypeError\u001b[0m: 'module' object is not callable"
     ]
    }
   ],
   "source": [
    "from datetime import datetime\n",
    "date1 =datetime(2020,1,1)\n",
    "date2 = datetime(2021,1,1)\n",
    "datea=date2-date1\n",
    "datea"
   ]
  }
 ],
 "metadata": {
  "kernelspec": {
   "display_name": "Python 3 (ipykernel)",
   "language": "python",
   "name": "python3"
  },
  "language_info": {
   "codemirror_mode": {
    "name": "ipython",
    "version": 3
   },
   "file_extension": ".py",
   "mimetype": "text/x-python",
   "name": "python",
   "nbconvert_exporter": "python",
   "pygments_lexer": "ipython3",
   "version": "3.10.5"
  }
 },
 "nbformat": 4,
 "nbformat_minor": 5
}
