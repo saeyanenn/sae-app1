{
 "cells": [
  {
   "cell_type": "code",
   "execution_count": null,
   "id": "80f2d3ed-6307-4eed-9f03-be9c58975734",
   "metadata": {
    "tags": []
   },
   "outputs": [],
   "source": [
    "num = -9\n",
    "if num > 0:\n",
    "    print(\"正です\")\n",
    "elif num == 0:\n",
    "    print(\"0です\")\n",
    "else :\n",
    "    print(\"負です\")"
   ]
  },
  {
   "cell_type": "code",
   "execution_count": null,
   "id": "2ac62e01-7822-4004-80b6-08b0c4c06a77",
   "metadata": {
    "tags": []
   },
   "outputs": [],
   "source": [
    "num = -1\n",
    "if num < 0 and num % 2 == 1:\n",
    "    print(\"負の奇数です\")\n",
    "elif num >= 0 and num % 2 == 0:\n",
    "    print(\"正の偶数です\")\n",
    "else:\n",
    "    print(\"整数です\")\n",
    "    "
   ]
  },
  {
   "cell_type": "code",
   "execution_count": null,
   "id": "14595bd0-4a98-4a1d-b4da-f7fcfa4e28f5",
   "metadata": {
    "tags": []
   },
   "outputs": [],
   "source": [
    "lists = [\"sae\",\"rin\",\"masaru\",\"chisato\"]\n",
    "for li in lists:\n",
    "    print(li)"
   ]
  },
  {
   "cell_type": "code",
   "execution_count": null,
   "id": "0eaa0345-217a-4aff-b902-7ea1248f8878",
   "metadata": {
    "tags": []
   },
   "outputs": [],
   "source": [
    "for i in range(10):\n",
    "    if i == 6:\n",
    "        print(\"終了！\")\n",
    "        break;\n",
    "    elif i == 3:\n",
    "    else:\n",
    "        print(i)"
   ]
  },
  {
   "cell_type": "code",
   "execution_count": 20,
   "id": "4f33a175-afce-4993-a21f-678818c2c5d6",
   "metadata": {
    "tags": []
   },
   "outputs": [
    {
     "name": "stdout",
     "output_type": "stream",
     "text": [
      "ito sae\n",
      "goto issa\n",
      "nishiwaki hokuto\n",
      "okayama syunta\n",
      "yoshida kaihu\n"
     ]
    }
   ],
   "source": [
    "lasts = [\"ito\",\"goto\",\"nishiwaki\",\"okayama\",\"yoshida\"]\n",
    "firsts = [\"sae\",\"issa\",\"hokuto\",\"syunta\",\"kaihu\"]\n",
    "\n",
    "for last,first in zip(lasts,firsts):\n",
    "    print(last+\" \"+first)"
   ]
  },
  {
   "cell_type": "code",
   "execution_count": 30,
   "id": "8caa3dac-894f-48ac-8034-b21cc3a1afd9",
   "metadata": {
    "tags": []
   },
   "outputs": [
    {
     "ename": "TypeError",
     "evalue": "unsupported operand type(s) for &: 'str' and 'str'",
     "output_type": "error",
     "traceback": [
      "\u001b[0;31m---------------------------------------------------------------------------\u001b[0m",
      "\u001b[0;31mTypeError\u001b[0m                                 Traceback (most recent call last)",
      "Input \u001b[0;32mIn [30]\u001b[0m, in \u001b[0;36m<cell line: 1>\u001b[0;34m()\u001b[0m\n\u001b[1;32m      1\u001b[0m \u001b[38;5;28;01mfor\u001b[39;00m key,value \u001b[38;5;129;01min\u001b[39;00m \u001b[38;5;28menumerate\u001b[39m(lasts):\n\u001b[0;32m----> 2\u001b[0m     \u001b[38;5;28mprint\u001b[39m(\u001b[38;5;28;43mstr\u001b[39;49m\u001b[43m(\u001b[49m\u001b[43mkey\u001b[49m\u001b[43m)\u001b[49m\u001b[38;5;241;43m&\u001b[39;49m\u001b[38;5;124;43m\"\u001b[39;49m\u001b[38;5;124;43m番目は\u001b[39;49m\u001b[38;5;124;43m\"\u001b[39;49m\u001b[38;5;241m&\u001b[39mvalue)\n",
      "\u001b[0;31mTypeError\u001b[0m: unsupported operand type(s) for &: 'str' and 'str'"
     ]
    }
   ],
   "source": [
    "for key,value in enumerate(lasts):\n",
    "    print(str(key)&\"番目は\"&value)"
   ]
  },
  {
   "cell_type": "code",
   "execution_count": 36,
   "id": "3520e7a9-a85b-4deb-ab16-250a318e1554",
   "metadata": {
    "tags": []
   },
   "outputs": [
    {
     "name": "stdout",
     "output_type": "stream",
     "text": [
      "[0, 2, 4, 6, 8]\n",
      "[0, 2, 4, 6, 8]\n"
     ]
    }
   ],
   "source": [
    "num = list(range(0,10,2))\n",
    "print(num)\n",
    "num2 = []\n",
    "for i in range(0,5):\n",
    "    num2.append(i*2)\n",
    "print(num2)"
   ]
  },
  {
   "cell_type": "code",
   "execution_count": 44,
   "id": "2dec6362-e9c4-4e14-9ebe-151e21bfb111",
   "metadata": {
    "tags": []
   },
   "outputs": [
    {
     "name": "stdout",
     "output_type": "stream",
     "text": [
      "10/-8は\n",
      "-1.25です。\n"
     ]
    }
   ],
   "source": [
    "num = -8\n",
    "print(f\"10/{num}は\")\n",
    "if num == 0:\n",
    "    print(\"エラーです。ゼロで割ることはできません\")\n",
    "else:\n",
    "    print(f\"{10/num}です。\")"
   ]
  },
  {
   "cell_type": "code",
   "execution_count": 49,
   "id": "ce3d8dce-f03c-43be-8fb0-1d5819e13668",
   "metadata": {
    "tags": []
   },
   "outputs": [
    {
     "name": "stdout",
     "output_type": "stream",
     "text": [
      "division by zero\n"
     ]
    }
   ],
   "source": [
    "num = 0\n",
    "try:\n",
    "    print(f\"計算結果は{10/num}です。\")\n",
    "except ZeroDivisionError as e:\n",
    "    print(e)"
   ]
  },
  {
   "cell_type": "code",
   "execution_count": 46,
   "id": "3f809843-c1c9-4f0b-b051-18194f05d2f4",
   "metadata": {
    "tags": []
   },
   "outputs": [
    {
     "ename": "ZeroDivisionError",
     "evalue": "division by zero",
     "output_type": "error",
     "traceback": [
      "\u001b[0;31m---------------------------------------------------------------------------\u001b[0m",
      "\u001b[0;31mZeroDivisionError\u001b[0m                         Traceback (most recent call last)",
      "Input \u001b[0;32mIn [46]\u001b[0m, in \u001b[0;36m<cell line: 2>\u001b[0;34m()\u001b[0m\n\u001b[1;32m      1\u001b[0m num \u001b[38;5;241m=\u001b[39m \u001b[38;5;241m0\u001b[39m   \n\u001b[0;32m----> 2\u001b[0m \u001b[38;5;28mprint\u001b[39m(\u001b[38;5;124mf\u001b[39m\u001b[38;5;124m\"\u001b[39m\u001b[38;5;124m計算結果は\u001b[39m\u001b[38;5;132;01m{\u001b[39;00m\u001b[38;5;241m10\u001b[39m\u001b[38;5;241m/\u001b[39mnum\u001b[38;5;132;01m}\u001b[39;00m\u001b[38;5;124mです。\u001b[39m\u001b[38;5;124m\"\u001b[39m)\n",
      "\u001b[0;31mZeroDivisionError\u001b[0m: division by zero"
     ]
    }
   ],
   "source": [
    "num = 0   \n",
    "print(f\"計算結果は{10/num}です。\")"
   ]
  },
  {
   "cell_type": "code",
   "execution_count": 62,
   "id": "e5efe429-172a-4094-929b-9950968015bd",
   "metadata": {
    "tags": []
   },
   "outputs": [],
   "source": [
    "def divide(a,b):\n",
    "    try:\n",
    "        print(f\"計算結果は：{a/b}\")\n",
    "    except ZeroDivisionError as e:\n",
    "        print(e)\n",
    "    except TypeError as t :\n",
    "        print(t)\n",
    "    finally:\n",
    "        print(\"終了しました\")"
   ]
  },
  {
   "cell_type": "code",
   "execution_count": 63,
   "id": "95d73a45-eb6f-4826-99d2-ed63bec75d49",
   "metadata": {
    "tags": []
   },
   "outputs": [
    {
     "name": "stdout",
     "output_type": "stream",
     "text": [
      "division by zero\n",
      "終了しました\n"
     ]
    }
   ],
   "source": [
    "divide(10,0)"
   ]
  },
  {
   "cell_type": "code",
   "execution_count": 87,
   "id": "1549643d-e5c1-4a9f-a85d-00caa952c82c",
   "metadata": {
    "tags": []
   },
   "outputs": [],
   "source": [
    "class person:\n",
    "    private nas = \"japan\"\n",
    "    name = \"\"\n",
    "\n",
    "    def seyhello(self):\n",
    "        print(f\"私の国籍は{self.nas}です。\")\n",
    "    def my_name(self,name):\n",
    "        self.name = name\n",
    "        print(f\"私の名前は{self.name}です。\")"
   ]
  },
  {
   "cell_type": "code",
   "execution_count": null,
   "id": "49e6f14a-2f61-42d0-93a1-51b5d8ae7434",
   "metadata": {},
   "outputs": [],
   "source": []
  },
  {
   "cell_type": "code",
   "execution_count": 75,
   "id": "37a5a890-c3e8-4f3a-bccd-46310b674d88",
   "metadata": {
    "tags": []
   },
   "outputs": [
    {
     "name": "stdout",
     "output_type": "stream",
     "text": [
      "私の国籍はjapanです。\n"
     ]
    }
   ],
   "source": [
    "person = person()\n",
    "person.seyhello()"
   ]
  },
  {
   "cell_type": "code",
   "execution_count": 77,
   "id": "58f99c54-40a8-4726-8d19-fad5b8789836",
   "metadata": {
    "tags": []
   },
   "outputs": [
    {
     "name": "stdout",
     "output_type": "stream",
     "text": [
      "私の名前はさえです。\n"
     ]
    }
   ],
   "source": [
    "person.set_name(\"さえ\")\n",
    "person.my_name()"
   ]
  },
  {
   "cell_type": "code",
   "execution_count": 88,
   "id": "85cc3e82-f34f-427d-8e55-e41cf8dbedef",
   "metadata": {
    "tags": []
   },
   "outputs": [
    {
     "name": "stdout",
     "output_type": "stream",
     "text": [
      "私の名前はちさとです。\n"
     ]
    }
   ],
   "source": [
    "person2 = person()\n",
    "person2.my_name(\"ちさと\")"
   ]
  },
  {
   "cell_type": "code",
   "execution_count": 98,
   "id": "b1946310-7f37-4f8a-b466-94f63627a646",
   "metadata": {
    "tags": []
   },
   "outputs": [],
   "source": [
    "class Person:\n",
    "    __nas = \"japan\"\n",
    "    name = \"\"\n",
    "    \n",
    "    def __init__(self,name):\n",
    "        self.name = name\n",
    "    def sayhello(self):\n",
    "        print(f\"私の国籍は{self.__nas}です。\")\n",
    "\n",
    "    def set_name(self):\n",
    "        print(f\"私の名前は{self.name}です。\")"
   ]
  },
  {
   "cell_type": "code",
   "execution_count": 99,
   "id": "713b5b48-fc37-4367-ac9a-87daaeb38376",
   "metadata": {
    "tags": []
   },
   "outputs": [],
   "source": [
    "p = Person(\"まさる\")\n"
   ]
  },
  {
   "cell_type": "code",
   "execution_count": 100,
   "id": "34cfb6fa-5d08-48bb-a9ee-e7ff8a7d577d",
   "metadata": {
    "tags": []
   },
   "outputs": [
    {
     "name": "stdout",
     "output_type": "stream",
     "text": [
      "私の名前はまさるです。\n"
     ]
    }
   ],
   "source": [
    "p.set_name()"
   ]
  }
 ],
 "metadata": {
  "kernelspec": {
   "display_name": "Python 3 (ipykernel)",
   "language": "python",
   "name": "python3"
  },
  "language_info": {
   "codemirror_mode": {
    "name": "ipython",
    "version": 3
   },
   "file_extension": ".py",
   "mimetype": "text/x-python",
   "name": "python",
   "nbconvert_exporter": "python",
   "pygments_lexer": "ipython3",
   "version": "3.10.5"
  }
 },
 "nbformat": 4,
 "nbformat_minor": 5
}
