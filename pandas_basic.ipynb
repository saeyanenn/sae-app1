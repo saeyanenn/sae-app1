{
 "cells": [
  {
   "cell_type": "code",
   "execution_count": 1,
   "id": "a9d860e8-5385-4d43-bf59-0b99ecdada34",
   "metadata": {
    "tags": []
   },
   "outputs": [],
   "source": [
    "import pandas as pd"
   ]
  },
  {
   "cell_type": "code",
   "execution_count": null,
   "id": "92424394-66e2-43de-bb9c-621b6b548d88",
   "metadata": {},
   "outputs": [],
   "source": []
  },
  {
   "cell_type": "code",
   "execution_count": null,
   "id": "856c2d06-55c0-47f2-861e-fff15a65c80c",
   "metadata": {},
   "outputs": [],
   "source": []
  },
  {
   "cell_type": "code",
   "execution_count": 2,
   "id": "e7eddbb1-001c-4e74-af33-b6cccf74a40b",
   "metadata": {
    "tags": []
   },
   "outputs": [],
   "source": [
    "df = pd.read_csv('weather.csv')"
   ]
  },
  {
   "cell_type": "code",
   "execution_count": null,
   "id": "e9a61e57-d25e-491f-99cc-6fc8612e6273",
   "metadata": {
    "tags": []
   },
   "outputs": [],
   "source": [
    "df"
   ]
  },
  {
   "cell_type": "code",
   "execution_count": null,
   "id": "9312376c-90da-44ab-b949-d00460653bd5",
   "metadata": {
    "tags": []
   },
   "outputs": [],
   "source": [
    "first3 = df.head(3)"
   ]
  },
  {
   "cell_type": "code",
   "execution_count": null,
   "id": "c041294f-1e63-4588-9900-f3a260f243aa",
   "metadata": {
    "tags": []
   },
   "outputs": [],
   "source": [
    "print(first3)"
   ]
  },
  {
   "cell_type": "code",
   "execution_count": null,
   "id": "ac30faaa-3c41-4341-8095-8c432d6aba44",
   "metadata": {
    "tags": []
   },
   "outputs": [],
   "source": [
    "df.tail(10)"
   ]
  },
  {
   "cell_type": "code",
   "execution_count": null,
   "id": "4d38846c-ddf0-4559-9d8d-3d2a316927c7",
   "metadata": {
    "tags": []
   },
   "outputs": [],
   "source": [
    "df.drop(1)"
   ]
  },
  {
   "cell_type": "code",
   "execution_count": null,
   "id": "34a854e9-eca5-40fb-8c75-2486597a4155",
   "metadata": {
    "tags": []
   },
   "outputs": [],
   "source": [
    "bdf.filter(like='.1',axis=1)"
   ]
  },
  {
   "cell_type": "code",
   "execution_count": null,
   "id": "4e6d31c9-421e-4e86-b49d-0bfde98501ae",
   "metadata": {
    "tags": []
   },
   "outputs": [],
   "source": [
    "\n",
    "# 条件に合致する列の列番号を取得\n",
    "filtered_col_indices = [i for i, col in df.columns if '.1' in col or '.2' in col]\n",
    "filtered_col_indices\n",
    "# # 列番号に対応する列を削除\n",
    "# df.drop(df.columns[filtered_col_indices], axis=1, inplace=True)\n",
    "\n",
    "# # 結果の表示\n",
    "# df"
   ]
  },
  {
   "cell_type": "code",
   "execution_count": null,
   "id": "864f5863-718f-49cb-89ae-2aac21125e1c",
   "metadata": {
    "tags": []
   },
   "outputs": [],
   "source": [
    "df.head()"
   ]
  },
  {
   "cell_type": "code",
   "execution_count": null,
   "id": "d740e938-81f9-417e-8a85-65cde4bcff0c",
   "metadata": {
    "tags": []
   },
   "outputs": [],
   "source": [
    "df.columns"
   ]
  },
  {
   "cell_type": "code",
   "execution_count": null,
   "id": "1759af82-c39d-4401-abe3-4b162c091a3a",
   "metadata": {
    "tags": []
   },
   "outputs": [],
   "source": [
    "df.dtypes"
   ]
  },
  {
   "cell_type": "code",
   "execution_count": null,
   "id": "41563dd0-250d-4201-a52f-25db238b3e90",
   "metadata": {
    "tags": []
   },
   "outputs": [],
   "source": [
    "df.index.tolist()"
   ]
  },
  {
   "cell_type": "code",
   "execution_count": null,
   "id": "b02ef709-49d8-47d1-ae61-8e30bd5900a9",
   "metadata": {
    "tags": []
   },
   "outputs": [],
   "source": [
    "df.loc[5:10]"
   ]
  },
  {
   "cell_type": "code",
   "execution_count": null,
   "id": "26748ec5-ca91-4b82-a24c-6ba64b9bfb8d",
   "metadata": {
    "tags": []
   },
   "outputs": [],
   "source": [
    "df.iloc[:,3:6]"
   ]
  },
  {
   "cell_type": "code",
   "execution_count": 4,
   "id": "f6d133d8-6533-49d1-8cbb-e5bb3ade04df",
   "metadata": {
    "tags": []
   },
   "outputs": [
    {
     "data": {
      "text/html": [
       "<div>\n",
       "<style scoped>\n",
       "    .dataframe tbody tr th:only-of-type {\n",
       "        vertical-align: middle;\n",
       "    }\n",
       "\n",
       "    .dataframe tbody tr th {\n",
       "        vertical-align: top;\n",
       "    }\n",
       "\n",
       "    .dataframe thead th {\n",
       "        text-align: right;\n",
       "    }\n",
       "</style>\n",
       "<table border=\"1\" class=\"dataframe\">\n",
       "  <thead>\n",
       "    <tr style=\"text-align: right;\">\n",
       "      <th></th>\n",
       "      <th>age</th>\n",
       "      <th>id</th>\n",
       "      <th>name</th>\n",
       "      <th>nationality</th>\n",
       "    </tr>\n",
       "  </thead>\n",
       "  <tbody>\n",
       "    <tr>\n",
       "      <th>0</th>\n",
       "      <td>26</td>\n",
       "      <td>13</td>\n",
       "      <td>Imanishi</td>\n",
       "      <td>Japan</td>\n",
       "    </tr>\n",
       "    <tr>\n",
       "      <th>1</th>\n",
       "      <td>21</td>\n",
       "      <td>33</td>\n",
       "      <td>Mike</td>\n",
       "      <td>America</td>\n",
       "    </tr>\n",
       "    <tr>\n",
       "      <th>2</th>\n",
       "      <td>35</td>\n",
       "      <td>31</td>\n",
       "      <td>Suzuki</td>\n",
       "      <td>Japan</td>\n",
       "    </tr>\n",
       "    <tr>\n",
       "      <th>3</th>\n",
       "      <td>16</td>\n",
       "      <td>20</td>\n",
       "      <td>John</td>\n",
       "      <td>America</td>\n",
       "    </tr>\n",
       "    <tr>\n",
       "      <th>4</th>\n",
       "      <td>28</td>\n",
       "      <td>11</td>\n",
       "      <td>Kim</td>\n",
       "      <td>Korea</td>\n",
       "    </tr>\n",
       "  </tbody>\n",
       "</table>\n",
       "</div>"
      ],
      "text/plain": [
       "   age  id      name nationality\n",
       "0   26  13  Imanishi       Japan\n",
       "1   21  33      Mike     America\n",
       "2   35  31    Suzuki       Japan\n",
       "3   16  20      John     America\n",
       "4   28  11       Kim       Korea"
      ]
     },
     "execution_count": 4,
     "metadata": {},
     "output_type": "execute_result"
    }
   ],
   "source": [
    "df2 = pd.read_csv('people.csv')\n",
    "df2"
   ]
  },
  {
   "cell_type": "code",
   "execution_count": null,
   "id": "3baed511-b93f-405f-a67c-eb0a85a3e966",
   "metadata": {
    "tags": []
   },
   "outputs": [],
   "source": [
    "df2[df2['nationality']=='America']"
   ]
  },
  {
   "cell_type": "code",
   "execution_count": null,
   "id": "ee51558a-8c51-4ac4-ac89-e4d64f320eaf",
   "metadata": {
    "jupyter": {
     "source_hidden": true
    },
    "tags": []
   },
   "outputs": [],
   "source": [
    "df2[(df2['age']>=20)&(df2['age']<30)]"
   ]
  },
  {
   "cell_type": "code",
   "execution_count": null,
   "id": "0ee8ce14-6621-4c38-a32d-0c2e7cc7c7ec",
   "metadata": {
    "tags": []
   },
   "outputs": [],
   "source": [
    "df2"
   ]
  },
  {
   "cell_type": "code",
   "execution_count": null,
   "id": "ac24c270-5b14-49ce-b991-4b5a2a7deeaf",
   "metadata": {
    "tags": []
   },
   "outputs": [],
   "source": [
    "unique_values_col_A = df2['age'].unique()\n",
    "unique_values_col_b = df2['id'].unique()\n",
    "unique_values_col_c = df2['name'].unique()\n",
    "unique_values_col_A\n"
   ]
  },
  {
   "cell_type": "code",
   "execution_count": null,
   "id": "a62cbdf5-690c-4392-bfb9-b2dd261159ed",
   "metadata": {
    "tags": []
   },
   "outputs": [],
   "source": [
    "unique_values_col_b\n"
   ]
  },
  {
   "cell_type": "code",
   "execution_count": null,
   "id": "a8502a2d-76e1-49a2-9ff8-f1b74b692594",
   "metadata": {
    "tags": []
   },
   "outputs": [],
   "source": [
    "unique_values_col_c"
   ]
  },
  {
   "cell_type": "code",
   "execution_count": null,
   "id": "85c9e6a4-fbef-4e15-a26e-5d075bcb6c3b",
   "metadata": {
    "tags": []
   },
   "outputs": [],
   "source": [
    "df2"
   ]
  },
  {
   "cell_type": "code",
   "execution_count": null,
   "id": "d72d8682-d5c4-4506-837a-c786f45e503a",
   "metadata": {
    "tags": []
   },
   "outputs": [],
   "source": [
    "df2.drop_duplicates(subset='nationality')"
   ]
  },
  {
   "cell_type": "code",
   "execution_count": null,
   "id": "90c70f7c-1e2f-48e7-9d1a-5549d9890fcc",
   "metadata": {
    "tags": []
   },
   "outputs": [],
   "source": [
    "df2.columns = ['年齢','id','名前','国籍']"
   ]
  },
  {
   "cell_type": "code",
   "execution_count": null,
   "id": "9b55539d-e4cd-400c-9516-5cf3d570aee3",
   "metadata": {
    "tags": []
   },
   "outputs": [],
   "source": [
    "df2"
   ]
  },
  {
   "cell_type": "code",
   "execution_count": null,
   "id": "9f0bd420-a93f-4525-acc0-ed5f54766e92",
   "metadata": {
    "tags": []
   },
   "outputs": [],
   "source": [
    "df.sort_values('最高気温(℃)',ascending=False)"
   ]
  },
  {
   "cell_type": "code",
   "execution_count": null,
   "id": "0a34966d-4501-402f-bf7f-52012de88ca3",
   "metadata": {
    "tags": []
   },
   "outputs": [],
   "source": [
    "df2"
   ]
  },
  {
   "cell_type": "code",
   "execution_count": null,
   "id": "1503c451-84cb-4c5d-858d-02baa28cb3c5",
   "metadata": {
    "tags": []
   },
   "outputs": [],
   "source": [
    "df2['nationality'].unique()"
   ]
  },
  {
   "cell_type": "code",
   "execution_count": null,
   "id": "8c5d0553-1378-474a-8992-fc3433bc6646",
   "metadata": {
    "tags": []
   },
   "outputs": [],
   "source": [
    "pd.get_dummies(df2,columns=['nationality'])"
   ]
  },
  {
   "cell_type": "code",
   "execution_count": null,
   "id": "f2c5b71e-02cf-49bf-8353-26beb455e380",
   "metadata": {
    "tags": []
   },
   "outputs": [],
   "source": [
    "df.isnull()"
   ]
  },
  {
   "cell_type": "code",
   "execution_count": null,
   "id": "ebeb295e-0791-4f5a-b82a-e93b7c64f45f",
   "metadata": {
    "tags": []
   },
   "outputs": [],
   "source": [
    "df"
   ]
  },
  {
   "cell_type": "code",
   "execution_count": null,
   "id": "9bc615c2-ab2d-4d53-8911-15c26bb4a49c",
   "metadata": {
    "tags": []
   },
   "outputs": [],
   "source": [
    "df.fillna(0)"
   ]
  },
  {
   "cell_type": "code",
   "execution_count": null,
   "id": "d4ec7788-c68f-4cc3-99fd-62ec94e04b1f",
   "metadata": {
    "tags": []
   },
   "outputs": [],
   "source": [
    "df.dropna(axis=1)"
   ]
  },
  {
   "cell_type": "code",
   "execution_count": 5,
   "id": "2302989d-c75a-46c1-ba91-7481ae2f8217",
   "metadata": {
    "tags": []
   },
   "outputs": [
    {
     "data": {
      "text/html": [
       "<div>\n",
       "<style scoped>\n",
       "    .dataframe tbody tr th:only-of-type {\n",
       "        vertical-align: middle;\n",
       "    }\n",
       "\n",
       "    .dataframe tbody tr th {\n",
       "        vertical-align: top;\n",
       "    }\n",
       "\n",
       "    .dataframe thead th {\n",
       "        text-align: right;\n",
       "    }\n",
       "</style>\n",
       "<table border=\"1\" class=\"dataframe\">\n",
       "  <thead>\n",
       "    <tr style=\"text-align: right;\">\n",
       "      <th></th>\n",
       "      <th>sepal-length</th>\n",
       "      <th>sepal-width</th>\n",
       "      <th>petal-length</th>\n",
       "      <th>petal-width</th>\n",
       "      <th>Class</th>\n",
       "    </tr>\n",
       "  </thead>\n",
       "  <tbody>\n",
       "    <tr>\n",
       "      <th>0</th>\n",
       "      <td>5.1</td>\n",
       "      <td>3.5</td>\n",
       "      <td>1.4</td>\n",
       "      <td>0.2</td>\n",
       "      <td>Iris-setosa</td>\n",
       "    </tr>\n",
       "    <tr>\n",
       "      <th>1</th>\n",
       "      <td>4.9</td>\n",
       "      <td>3.0</td>\n",
       "      <td>1.4</td>\n",
       "      <td>0.2</td>\n",
       "      <td>Iris-setosa</td>\n",
       "    </tr>\n",
       "    <tr>\n",
       "      <th>2</th>\n",
       "      <td>4.7</td>\n",
       "      <td>3.2</td>\n",
       "      <td>1.3</td>\n",
       "      <td>0.2</td>\n",
       "      <td>Iris-setosa</td>\n",
       "    </tr>\n",
       "    <tr>\n",
       "      <th>3</th>\n",
       "      <td>4.6</td>\n",
       "      <td>3.1</td>\n",
       "      <td>1.5</td>\n",
       "      <td>0.2</td>\n",
       "      <td>Iris-setosa</td>\n",
       "    </tr>\n",
       "    <tr>\n",
       "      <th>4</th>\n",
       "      <td>5.0</td>\n",
       "      <td>3.6</td>\n",
       "      <td>1.4</td>\n",
       "      <td>0.2</td>\n",
       "      <td>Iris-setosa</td>\n",
       "    </tr>\n",
       "    <tr>\n",
       "      <th>...</th>\n",
       "      <td>...</td>\n",
       "      <td>...</td>\n",
       "      <td>...</td>\n",
       "      <td>...</td>\n",
       "      <td>...</td>\n",
       "    </tr>\n",
       "    <tr>\n",
       "      <th>151</th>\n",
       "      <td>12.5</td>\n",
       "      <td>3.1</td>\n",
       "      <td>5.1</td>\n",
       "      <td>1.8</td>\n",
       "      <td>Iris-virginica</td>\n",
       "    </tr>\n",
       "    <tr>\n",
       "      <th>152</th>\n",
       "      <td>13.4</td>\n",
       "      <td>2.7</td>\n",
       "      <td>5.1</td>\n",
       "      <td>1.8</td>\n",
       "      <td>Iris-virginica</td>\n",
       "    </tr>\n",
       "    <tr>\n",
       "      <th>153</th>\n",
       "      <td>13.2</td>\n",
       "      <td>3.2</td>\n",
       "      <td>5.1</td>\n",
       "      <td>1.8</td>\n",
       "      <td>Iris-versicolor</td>\n",
       "    </tr>\n",
       "    <tr>\n",
       "      <th>154</th>\n",
       "      <td>15.2</td>\n",
       "      <td>2.3</td>\n",
       "      <td>5.1</td>\n",
       "      <td>1.8</td>\n",
       "      <td>Iris-versicolor</td>\n",
       "    </tr>\n",
       "    <tr>\n",
       "      <th>155</th>\n",
       "      <td>14.2</td>\n",
       "      <td>2.4</td>\n",
       "      <td>5.1</td>\n",
       "      <td>1.8</td>\n",
       "      <td>Iris-versicolor</td>\n",
       "    </tr>\n",
       "  </tbody>\n",
       "</table>\n",
       "<p>156 rows × 5 columns</p>\n",
       "</div>"
      ],
      "text/plain": [
       "     sepal-length  sepal-width  petal-length  petal-width            Class\n",
       "0             5.1          3.5           1.4          0.2      Iris-setosa\n",
       "1             4.9          3.0           1.4          0.2      Iris-setosa\n",
       "2             4.7          3.2           1.3          0.2      Iris-setosa\n",
       "3             4.6          3.1           1.5          0.2      Iris-setosa\n",
       "4             5.0          3.6           1.4          0.2      Iris-setosa\n",
       "..            ...          ...           ...          ...              ...\n",
       "151          12.5          3.1           5.1          1.8   Iris-virginica\n",
       "152          13.4          2.7           5.1          1.8   Iris-virginica\n",
       "153          13.2          3.2           5.1          1.8  Iris-versicolor\n",
       "154          15.2          2.3           5.1          1.8  Iris-versicolor\n",
       "155          14.2          2.4           5.1          1.8  Iris-versicolor\n",
       "\n",
       "[156 rows x 5 columns]"
      ]
     },
     "execution_count": 5,
     "metadata": {},
     "output_type": "execute_result"
    }
   ],
   "source": [
    "df3 = pd.read_csv('iris.csv')\n",
    "df3"
   ]
  },
  {
   "cell_type": "code",
   "execution_count": null,
   "id": "435c5f0e-1cdc-4019-8ea3-6c44e12d8601",
   "metadata": {},
   "outputs": [],
   "source": []
  },
  {
   "cell_type": "code",
   "execution_count": null,
   "id": "05bc57c3-811b-4435-bb44-15950e29a6e0",
   "metadata": {
    "tags": []
   },
   "outputs": [],
   "source": [
    "class_u = df3['Class'].unique()\n",
    "class_u"
   ]
  },
  {
   "cell_type": "code",
   "execution_count": null,
   "id": "913e189d-a8d1-448e-be10-30079b589d99",
   "metadata": {
    "tags": []
   },
   "outputs": [],
   "source": [
    "df3['Class'].value_counts()"
   ]
  },
  {
   "cell_type": "code",
   "execution_count": null,
   "id": "78f2e2da-4cc4-4ecc-99cf-929e47ed4683",
   "metadata": {
    "tags": []
   },
   "outputs": [],
   "source": [
    "df3.groupby('Class').mean()"
   ]
  },
  {
   "cell_type": "code",
   "execution_count": null,
   "id": "bebe3cb3-f88c-4eca-b5ba-9fd528f4e2ae",
   "metadata": {
    "tags": []
   },
   "outputs": [],
   "source": [
    "df.mean()"
   ]
  },
  {
   "cell_type": "code",
   "execution_count": null,
   "id": "2942211a-a0a7-45ff-b6ef-5c427e14e63b",
   "metadata": {
    "tags": []
   },
   "outputs": [],
   "source": [
    "df.median()"
   ]
  },
  {
   "cell_type": "code",
   "execution_count": null,
   "id": "52a8fc0e-921f-4df7-974e-6da191747247",
   "metadata": {
    "tags": []
   },
   "outputs": [],
   "source": [
    "df.std()"
   ]
  },
  {
   "cell_type": "code",
   "execution_count": null,
   "id": "de659a2a-5297-44fd-82ef-0c80da5a3d21",
   "metadata": {
    "tags": []
   },
   "outputs": [],
   "source": [
    "df.max()"
   ]
  },
  {
   "cell_type": "code",
   "execution_count": null,
   "id": "2e630bdf-3927-40f5-9c3b-a135f6460610",
   "metadata": {
    "tags": []
   },
   "outputs": [],
   "source": [
    "df.min()"
   ]
  },
  {
   "cell_type": "code",
   "execution_count": null,
   "id": "eb71a332-7f0d-4f65-ba96-2c49ff476b20",
   "metadata": {
    "tags": []
   },
   "outputs": [],
   "source": [
    "import matplotlib.pyplot as plt\n",
    "df"
   ]
  },
  {
   "cell_type": "code",
   "execution_count": null,
   "id": "72248b92-c39f-4e67-9dac-fa4a6a0da282",
   "metadata": {
    "tags": []
   },
   "outputs": [],
   "source": [
    "df[:50].plot(x='年月日',y=['平均気温(℃)','最高気温(℃)','最低気温(℃)'],legend=False)"
   ]
  },
  {
   "cell_type": "code",
   "execution_count": 6,
   "id": "2d2dd8a5-f5c3-4244-9987-779c40326e05",
   "metadata": {
    "tags": []
   },
   "outputs": [
    {
     "data": {
      "text/plain": [
       "Index(['年月日', '平均気温(℃)', '平均気温(℃).1', '平均気温(℃).2', '最高気温(℃)', '最高気温(℃).1',\n",
       "       '最高気温(℃).2', '最低気温(℃)', '最低気温(℃).1', '最低気温(℃).2', '降水量の合計(mm)',\n",
       "       '降水量の合計(mm).1', '降水量の合計(mm).2', '最深積雪(cm)', '最深積雪(cm).1', '最深積雪(cm).2',\n",
       "       '平均雲量(10分比)', '平均雲量(10分比).1', '平均雲量(10分比).2', '平均蒸気圧(hPa)',\n",
       "       '平均蒸気圧(hPa).1', '平均蒸気圧(hPa).2', '平均風速(m/s)', '平均風速(m/s).1',\n",
       "       '平均風速(m/s).2', '日照時間(時間)', '日照時間(時間).1', '日照時間(時間).2'],\n",
       "      dtype='object')"
      ]
     },
     "execution_count": 6,
     "metadata": {},
     "output_type": "execute_result"
    }
   ],
   "source": [
    "df.columns"
   ]
  },
  {
   "cell_type": "code",
   "execution_count": 8,
   "id": "8fe22e03-79c4-4913-98ad-1d68f0c56bb5",
   "metadata": {
    "tags": []
   },
   "outputs": [
    {
     "data": {
      "text/html": [
       "<div>\n",
       "<style scoped>\n",
       "    .dataframe tbody tr th:only-of-type {\n",
       "        vertical-align: middle;\n",
       "    }\n",
       "\n",
       "    .dataframe tbody tr th {\n",
       "        vertical-align: top;\n",
       "    }\n",
       "\n",
       "    .dataframe thead th {\n",
       "        text-align: right;\n",
       "    }\n",
       "</style>\n",
       "<table border=\"1\" class=\"dataframe\">\n",
       "  <thead>\n",
       "    <tr style=\"text-align: right;\">\n",
       "      <th></th>\n",
       "      <th>平均気温(℃)</th>\n",
       "      <th>降水量の合計(mm)</th>\n",
       "      <th>日照時間(時間)</th>\n",
       "    </tr>\n",
       "  </thead>\n",
       "  <tbody>\n",
       "    <tr>\n",
       "      <th>平均気温(℃)</th>\n",
       "      <td>1.000000</td>\n",
       "      <td>0.027858</td>\n",
       "      <td>0.071758</td>\n",
       "    </tr>\n",
       "    <tr>\n",
       "      <th>降水量の合計(mm)</th>\n",
       "      <td>0.027858</td>\n",
       "      <td>1.000000</td>\n",
       "      <td>-0.367911</td>\n",
       "    </tr>\n",
       "    <tr>\n",
       "      <th>日照時間(時間)</th>\n",
       "      <td>0.071758</td>\n",
       "      <td>-0.367911</td>\n",
       "      <td>1.000000</td>\n",
       "    </tr>\n",
       "  </tbody>\n",
       "</table>\n",
       "</div>"
      ],
      "text/plain": [
       "             平均気温(℃)  降水量の合計(mm)  日照時間(時間)\n",
       "平均気温(℃)     1.000000    0.027858  0.071758\n",
       "降水量の合計(mm)  0.027858    1.000000 -0.367911\n",
       "日照時間(時間)    0.071758   -0.367911  1.000000"
      ]
     },
     "execution_count": 8,
     "metadata": {},
     "output_type": "execute_result"
    }
   ],
   "source": [
    "df[['平均気温(℃)','降水量の合計(mm)','日照時間(時間)']].corr()"
   ]
  },
  {
   "cell_type": "code",
   "execution_count": 10,
   "id": "6c9692ba-ac88-4320-a481-2bdb83848889",
   "metadata": {
    "tags": []
   },
   "outputs": [],
   "source": [
    "df.fillna(0).to_csv('export.csv',index=False)"
   ]
  },
  {
   "cell_type": "code",
   "execution_count": null,
   "id": "07943a63-bf8c-4c7a-b1c6-8725b81983db",
   "metadata": {},
   "outputs": [],
   "source": []
  }
 ],
 "metadata": {
  "kernelspec": {
   "display_name": "Python 3 (ipykernel)",
   "language": "python",
   "name": "python3"
  },
  "language_info": {
   "codemirror_mode": {
    "name": "ipython",
    "version": 3
   },
   "file_extension": ".py",
   "mimetype": "text/x-python",
   "name": "python",
   "nbconvert_exporter": "python",
   "pygments_lexer": "ipython3",
   "version": "3.10.5"
  }
 },
 "nbformat": 4,
 "nbformat_minor": 5
}
